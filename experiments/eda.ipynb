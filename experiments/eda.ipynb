{
 "cells": [
  {
   "cell_type": "code",
   "execution_count": 7,
   "metadata": {},
   "outputs": [],
   "source": [
    "import polars as pl\n",
    "\n",
    "with open('words_250000_train.txt', 'r') as f:\n",
    "    lines = f.read().split('\\n')"
   ]
  },
  {
   "cell_type": "code",
   "execution_count": 9,
   "metadata": {},
   "outputs": [],
   "source": [
    "df = pl.DataFrame(data={\n",
    "    'word': lines,\n",
    "    'word_len': list(map(len, lines))\n",
    "})"
   ]
  },
  {
   "cell_type": "code",
   "execution_count": 11,
   "metadata": {},
   "outputs": [
    {
     "data": {
      "text/html": [
       "<div><style>\n",
       ".dataframe > thead > tr > th,\n",
       ".dataframe > tbody > tr > td {\n",
       "  text-align: right;\n",
       "}\n",
       "</style>\n",
       "<small>shape: (9, 3)</small><table border=\"1\" class=\"dataframe\"><thead><tr><th>describe</th><th>word</th><th>word_len</th></tr><tr><td>str</td><td>str</td><td>f64</td></tr></thead><tbody><tr><td>&quot;count&quot;</td><td>&quot;227301&quot;</td><td>227301.0</td></tr><tr><td>&quot;null_count&quot;</td><td>&quot;0&quot;</td><td>0.0</td></tr><tr><td>&quot;mean&quot;</td><td>null</td><td>9.34772</td></tr><tr><td>&quot;std&quot;</td><td>null</td><td>2.9813</td></tr><tr><td>&quot;min&quot;</td><td>&quot;&quot;</td><td>0.0</td></tr><tr><td>&quot;25%&quot;</td><td>null</td><td>7.0</td></tr><tr><td>&quot;50%&quot;</td><td>null</td><td>9.0</td></tr><tr><td>&quot;75%&quot;</td><td>null</td><td>11.0</td></tr><tr><td>&quot;max&quot;</td><td>&quot;zzz&quot;</td><td>29.0</td></tr></tbody></table></div>"
      ],
      "text/plain": [
       "shape: (9, 3)\n",
       "┌────────────┬────────┬──────────┐\n",
       "│ describe   ┆ word   ┆ word_len │\n",
       "│ ---        ┆ ---    ┆ ---      │\n",
       "│ str        ┆ str    ┆ f64      │\n",
       "╞════════════╪════════╪══════════╡\n",
       "│ count      ┆ 227301 ┆ 227301.0 │\n",
       "│ null_count ┆ 0      ┆ 0.0      │\n",
       "│ mean       ┆ null   ┆ 9.34772  │\n",
       "│ std        ┆ null   ┆ 2.9813   │\n",
       "│ min        ┆        ┆ 0.0      │\n",
       "│ 25%        ┆ null   ┆ 7.0      │\n",
       "│ 50%        ┆ null   ┆ 9.0      │\n",
       "│ 75%        ┆ null   ┆ 11.0     │\n",
       "│ max        ┆ zzz    ┆ 29.0     │\n",
       "└────────────┴────────┴──────────┘"
      ]
     },
     "execution_count": 11,
     "metadata": {},
     "output_type": "execute_result"
    }
   ],
   "source": [
    "df.describe()"
   ]
  },
  {
   "cell_type": "code",
   "execution_count": null,
   "metadata": {},
   "outputs": [],
   "source": []
  }
 ],
 "metadata": {
  "kernelspec": {
   "display_name": "pt2",
   "language": "python",
   "name": "python3"
  },
  "language_info": {
   "codemirror_mode": {
    "name": "ipython",
    "version": 3
   },
   "file_extension": ".py",
   "mimetype": "text/x-python",
   "name": "python",
   "nbconvert_exporter": "python",
   "pygments_lexer": "ipython3",
   "version": "3.8.16"
  },
  "orig_nbformat": 4
 },
 "nbformat": 4,
 "nbformat_minor": 2
}
